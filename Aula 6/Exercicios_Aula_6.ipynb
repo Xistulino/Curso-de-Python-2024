{
  "nbformat": 4,
  "nbformat_minor": 0,
  "metadata": {
    "colab": {
      "provenance": []
    },
    "kernelspec": {
      "name": "python3",
      "display_name": "Python 3"
    },
    "language_info": {
      "name": "python"
    }
  },
  "cells": [
    {
      "cell_type": "code",
      "execution_count": null,
      "metadata": {
        "id": "FtzkWVQqaPl3"
      },
      "outputs": [],
      "source": [
        "import numpy as np\n",
        "import pandas as pd\n",
        "import matplotlib.pyplot as plt"
      ]
    },
    {
      "cell_type": "code",
      "source": [
        "!gdown 1M8JTBzRKF_q8Pw-YZ5cSybJ-eZOzcEHX\n",
        "df = pd.read_csv('loan_data_set.csv')"
      ],
      "metadata": {
        "id": "dK_8WjP4aS1F"
      },
      "execution_count": null,
      "outputs": []
    }
  ]
}